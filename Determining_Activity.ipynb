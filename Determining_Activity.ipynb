{
 "cells": [
  {
   "cell_type": "markdown",
   "source": [
    "# *****************************************************************************\n",
    "#\n",
    "#\tbrief : 라벨링 및 전처리한 데이터 merged_file.csv을 사용해 학습해 비활동성, 활동성 감정 분석을 학습합니다.\n",
    "#\t\t\t(본 코드는 네이버 리뷰 긍정,부정 감정분석기 코드를 재활용하였습니다)\n",
    "#\tfile : Determining_Activity.ipynb\n",
    "#\tdate : 2023-10-18\n",
    "#\tautor : 김선민\n",
    "#\n",
    "# *****************************************************************************"
   ],
   "metadata": {
    "collapsed": false
   }
  },
  {
   "cell_type": "code",
   "execution_count": 46,
   "metadata": {
    "collapsed": true
   },
   "outputs": [],
   "source": [
    "import pandas as pd\n",
    "import numpy as np\n",
    "import re\n",
    "import matplotlib.pyplot as plt\n",
    "import urllib.request\n",
    "from kiwipiepy import Kiwi\n",
    "from collections import Counter\n",
    "from sklearn.model_selection import train_test_split\n",
    "from tensorflow.keras.preprocessing.text import Tokenizer\n",
    "from tensorflow.keras.preprocessing.sequence import pad_sequences"
   ]
  },
  {
   "cell_type": "code",
   "execution_count": 47,
   "outputs": [
    {
     "name": "stdout",
     "output_type": "stream",
     "text": [
      "1560114\n"
     ]
    },
    {
     "data": {
      "text/plain": "     reviews  label\n0      나 홍콩도      1\n1    가보고픔 ㅠㅠ      1\n2     앜ㅋㅋ 혹시      1\n3  홍콩에 잘생긴사람      1\n4     있다구해서?      1",
      "text/html": "<div>\n<style scoped>\n    .dataframe tbody tr th:only-of-type {\n        vertical-align: middle;\n    }\n\n    .dataframe tbody tr th {\n        vertical-align: top;\n    }\n\n    .dataframe thead th {\n        text-align: right;\n    }\n</style>\n<table border=\"1\" class=\"dataframe\">\n  <thead>\n    <tr style=\"text-align: right;\">\n      <th></th>\n      <th>reviews</th>\n      <th>label</th>\n    </tr>\n  </thead>\n  <tbody>\n    <tr>\n      <th>0</th>\n      <td>나 홍콩도</td>\n      <td>1</td>\n    </tr>\n    <tr>\n      <th>1</th>\n      <td>가보고픔 ㅠㅠ</td>\n      <td>1</td>\n    </tr>\n    <tr>\n      <th>2</th>\n      <td>앜ㅋㅋ 혹시</td>\n      <td>1</td>\n    </tr>\n    <tr>\n      <th>3</th>\n      <td>홍콩에 잘생긴사람</td>\n      <td>1</td>\n    </tr>\n    <tr>\n      <th>4</th>\n      <td>있다구해서?</td>\n      <td>1</td>\n    </tr>\n  </tbody>\n</table>\n</div>"
     },
     "execution_count": 47,
     "metadata": {},
     "output_type": "execute_result"
    }
   ],
   "source": [
    "# CSV 파일을 읽어 데이터프레임 생성, 열 이름 설정, 데이터프레임의 길이 출력, 데이터프레임의 처음 몇 행 출력\n",
    "\n",
    "df = pd.read_csv(\"/Users/sun/PycharmProjects/EmotionAnalysis_SNS_v2/Json_PreProcessing/CSV_DATA/merged_file_v1.csv\", sep=\"\\t\", header=None, encoding=\"utf-8-sig\")\n",
    "df.columns = ['reviews', 'label']\n",
    "print(len(df))\n",
    "df.head()"
   ],
   "metadata": {
    "collapsed": false,
    "pycharm": {
     "name": "#%%\n"
    }
   }
  },
  {
   "cell_type": "markdown",
   "source": [],
   "metadata": {
    "collapsed": false
   }
  },
  {
   "cell_type": "code",
   "execution_count": 48,
   "outputs": [
    {
     "name": "stdout",
     "output_type": "stream",
     "text": [
      "True\n",
      "1263165\n",
      "reviews    1\n",
      "label      0\n",
      "dtype: int64\n"
     ]
    }
   ],
   "source": [
    "# 중복 리뷰를 삭제하고, NaN 값 확인 및 데이터프레임 길이 출력\n",
    "df.drop_duplicates(subset=['reviews'], inplace=True)\n",
    "print(df.isnull().values.any())\n",
    "print(len(df))\n",
    "\n",
    "# 리뷰 텍스트에서 한글 문자 이외의 문자를 삭제하고, 빈 문자열을 NaN으로 대체하며, NaN 값 개수 출력\n",
    "df['reviews'] = df['reviews'].str.replace(\"[^ㄱ-ㅎㅏ-ㅣ가-힣]\", \"\")\n",
    "df['reviews'].replace('', np.nan, inplace=True)\n",
    "print(df.isnull().sum())"
   ],
   "metadata": {
    "collapsed": false,
    "pycharm": {
     "name": "#%%\n"
    }
   }
  },
  {
   "cell_type": "code",
   "execution_count": 49,
   "outputs": [
    {
     "name": "stdout",
     "output_type": "stream",
     "text": [
      "Train Reviews :  1010532\n",
      "Test_Reviews :  252633\n",
      "   label   count\n",
      "0      0  493583\n",
      "1      1  516949\n"
     ]
    },
    {
     "data": {
      "text/plain": "<Figure size 640x480 with 1 Axes>",
      "image/png": "[encoded data removed]"
     },
     "metadata": {},
     "output_type": "display_data"
    }
   ],
   "source": [
    "# 데이터를 학습 데이터와 테스트 데이터로 분할하고 데이터 개수 출력\n",
    "train_data, test_data = train_test_split(df, test_size=0.2, random_state=97)\n",
    "print(\"Train Reviews : \", len(train_data))\n",
    "print(\"Test_Reviews : \", len(test_data))\n",
    "\n",
    "# 학습 데이터의 레이블 분포를 막대 그래프로 표시하고, 레이블별 데이터 개수 출력\n",
    "train_data['label'].value_counts().plot(kind='bar')\n",
    "print(train_data.groupby('label').size().reset_index(name='count'))"
   ],
   "metadata": {
    "collapsed": false,
    "pycharm": {
     "name": "#%%\n"
    }
   }
  },
  {
   "cell_type": "code",
   "execution_count": 50,
   "outputs": [
    {
     "name": "stdout",
     "output_type": "stream",
     "text": [
      "`analyze` requires a `str` or an iterable of `str` parameters.\n",
      "train finished\n",
      "test finished\n"
     ]
    }
   ],
   "source": [
    "# Kiwi 객체 생성 및 불용어(stopwords) 정의\n",
    "# Kiwi 한국어 형태소 분석기 라이브러리 사용\n",
    "kiwi = Kiwi()\n",
    "stopwords = ['도', '는', '다', '의', '가', '이', '은', '한', '에', '하', '고', '을', '를', '인', '듯', '과', '와', '네', '들', '듯', '지',\n",
    "\t\t\t '임', '게']\n",
    "\n",
    "# 문장을 토큰화하는 함수 정의\n",
    "def tokenizing(sentence):\n",
    "\ttry:\n",
    "\t\tif not sentence:\n",
    "\t\t\traise ValueError\n",
    "\t\twords = []  # 변수를 초기화\n",
    "\t\ttokens = kiwi.tokenize(sentence)\n",
    "\t\tfor token in tokens:\n",
    "\t\t\tif token[0] not in stopwords:\n",
    "\t\t\t\twords.append(token[0])\n",
    "\texcept ValueError as e:\n",
    "\t\tprint(e)\n",
    "\n",
    "\treturn words\n",
    "\n",
    "# 학습 데이터와 테스트 데이터에 토큰화 함수 적용\n",
    "train_data['tokenized'] = train_data['reviews'].apply(tokenizing)\n",
    "print(\"train finished\")\n",
    "test_data['tokenized'] = test_data['reviews'].apply(tokenizing)\n",
    "print(\"test finished\")"
   ],
   "metadata": {
    "collapsed": false,
    "pycharm": {
     "name": "#%%\n"
    }
   }
  },
  {
   "cell_type": "code",
   "execution_count": 51,
   "outputs": [],
   "source": [
    "# 부정적 리뷰단어 추출\n",
    "negative_words = np.hstack(train_data[train_data.label == 0]['tokenized'].values)\n",
    "# 긍정적 리뷰에서 단어 추출\n",
    "positive_words = np.hstack(train_data[train_data.label == 1]['tokenized'].values)"
   ],
   "metadata": {
    "collapsed": false,
    "pycharm": {
     "name": "#%%\n"
    }
   }
  },
  {
   "cell_type": "code",
   "execution_count": 52,
   "outputs": [
    {
     "name": "stdout",
     "output_type": "stream",
     "text": [
      "[('어', 155448), ('나', 69423), ('었', 64532), ('ᆫ', 63265), ('거', 50184), ('?', 47492), ('어서', 41516), ('보', 34675), ('안', 33606), ('ᆯ', 33201), ('있', 26233), ('먹', 24865), ('는데', 24066), ('되', 22866), ('면', 22262), ('어야', 20832), ('..', 19625), ('...', 19593), ('오', 18836), ('ᆷ', 18784)]\n"
     ]
    }
   ],
   "source": [
    "# 부정적 리뷰 상위 20개 단어\n",
    "negative_word_count = Counter(negative_words)\n",
    "print(negative_word_count.most_common(20))"
   ],
   "metadata": {
    "collapsed": false,
    "pycharm": {
     "name": "#%%\n"
    }
   }
  },
  {
   "cell_type": "code",
   "execution_count": 53,
   "outputs": [
    {
     "name": "stdout",
     "output_type": "stream",
     "text": [
      "[('어', 149854), ('나', 68912), ('보', 63721), ('었', 63528), ('ᆫ', 60363), ('?', 60290), ('거', 45420), ('ᆯ', 38479), ('어서', 33061), ('있', 27402), ('안', 25046), ('면', 23926), ('는데', 21589), ('키키', 21337), ('되', 20989), ('오', 20885), ('야', 20084), ('...', 19894), ('좋', 19765), ('ᆷ', 19448)]\n"
     ]
    }
   ],
   "source": [
    "# 긍정 리뷰에서 가장 많이 나타나는 상위 20개 단어 출력\n",
    "positive_word_count = Counter(positive_words)\n",
    "print(positive_word_count.most_common(20))"
   ],
   "metadata": {
    "collapsed": false,
    "pycharm": {
     "name": "#%%\n"
    }
   }
  },
  {
   "cell_type": "code",
   "execution_count": 54,
   "outputs": [
    {
     "name": "stdout",
     "output_type": "stream",
     "text": [
      "활동성 리뷰의 평균 길이 : 6.256180010020331\n",
      "비활동성 리뷰의 평균 길이 : 6.3623605351075705\n"
     ]
    },
    {
     "data": {
      "text/plain": "<Figure size 1000x500 with 2 Axes>",
      "image/png": "[encoded data removed]"
     },
     "metadata": {},
     "output_type": "display_data"
    }
   ],
   "source": [
    "# 활동적 리뷰의 길이 분포 그래프\n",
    "fig, (ax1, ax2) = plt.subplots(1, 2, figsize=(10, 5))\n",
    "text_len = train_data[train_data['label'] == 1]['tokenized'].map(lambda x: len(x))\n",
    "ax1.hist(text_len, color='red')\n",
    "ax1.set_title('Positive Reviews')\n",
    "ax1.set_xlabel('length of samples')\n",
    "ax1.set_ylabel('number of samples')\n",
    "print('활동성 리뷰의 평균 길이 :', np.mean(text_len))\n",
    "\n",
    "# 비활동적 리뷰의 길이 분포 그래프\n",
    "text_len = train_data[train_data['label'] == 0]['tokenized'].map(lambda x: len(x))\n",
    "ax2.hist(text_len, color='blue')\n",
    "ax2.set_title('Negative Reviews')\n",
    "fig.suptitle('Words in texts')\n",
    "ax2.set_xlabel('length of samples')\n",
    "ax2.set_ylabel('number of samples')\n",
    "print('비활동성 리뷰의 평균 길이 :', np.mean(text_len))\n",
    "plt.show()"
   ],
   "metadata": {
    "collapsed": false,
    "pycharm": {
     "name": "#%%\n"
    }
   }
  },
  {
   "cell_type": "code",
   "execution_count": 55,
   "outputs": [],
   "source": [
    "# 학습 데이터와 테스트 데이터의 토큰화된 리뷰 및 레이블을 추출\n",
    "X_train = train_data['tokenized'].values\n",
    "Y_train = train_data['label'].values\n",
    "X_test = test_data['tokenized'].values\n",
    "Y_test = test_data['label'].values"
   ],
   "metadata": {
    "collapsed": false,
    "pycharm": {
     "name": "#%%\n"
    }
   }
  },
  {
   "cell_type": "code",
   "execution_count": 56,
   "outputs": [
    {
     "name": "stdout",
     "output_type": "stream",
     "text": [
      "126516\n"
     ]
    }
   ],
   "source": [
    "# Tokenizer 객체를 생성하고 학습 데이터로 텍스트 토큰화 모델을 학습\n",
    "tokenizer = Tokenizer()\n",
    "tokenizer.fit_on_texts(X_train)\n",
    "# 단어 인덱스의 총 개수 출력\n",
    "print(len(tokenizer.word_index))"
   ],
   "metadata": {
    "collapsed": false,
    "pycharm": {
     "name": "#%%\n"
    }
   }
  },
  {
   "cell_type": "code",
   "execution_count": 57,
   "outputs": [
    {
     "name": "stdout",
     "output_type": "stream",
     "text": [
      "Size of Vocabulary : 126516\n",
      "등장빈도가 1번 이하인 희귀 단어의 수 : 81314\n",
      "단어 집합에서 희귀 단어의 비율 :  64.27171266875335\n",
      "전체 등장 빈도에서 희귀 단어 등장 빈도 비율 : 1.2756179759945871\n"
     ]
    }
   ],
   "source": [
    "# 희귀 단어를 정의하는 등장 빈도 임계값 설정\n",
    "threshold = 2\n",
    "total_cnt = len(tokenizer.word_index)\n",
    "rare_cnt = 0\n",
    "total_freq = 0\n",
    "rare_freq = 0\n",
    "\n",
    "# 단어 등장 빈도 계산\n",
    "for key, value in tokenizer.word_counts.items():\n",
    "\ttotal_freq = total_freq + value\n",
    "\n",
    "\tif value < threshold:\n",
    "\t\trare_cnt += 1\n",
    "\t\trare_freq = rare_freq + value\n",
    "\n",
    "# 어휘 크기, 희귀 단어 수, 희귀 단어 비율, 희귀 단어 등장 빈도 비율 출력\n",
    "print(\"Size of Vocabulary :\", total_cnt)\n",
    "print(f'등장빈도가 {threshold - 1}번 이하인 희귀 단어의 수 : {rare_cnt}')\n",
    "print(\"단어 집합에서 희귀 단어의 비율 : \", (rare_cnt / total_cnt) * 100)\n",
    "print('전체 등장 빈도에서 희귀 단어 등장 빈도 비율 :', (rare_freq / total_freq) * 100)"
   ],
   "metadata": {
    "collapsed": false,
    "pycharm": {
     "name": "#%%\n"
    }
   }
  },
  {
   "cell_type": "code",
   "execution_count": 58,
   "outputs": [
    {
     "name": "stdout",
     "output_type": "stream",
     "text": [
      "단어 집합의 크기 :  45204\n"
     ]
    }
   ],
   "source": [
    "# 어휘 크기를 희귀 단어 수를 제외한 값으로 정의\n",
    "vocab_size = total_cnt - rare_cnt + 2\n",
    "print('단어 집합의 크기 : ', vocab_size)"
   ],
   "metadata": {
    "collapsed": false,
    "pycharm": {
     "name": "#%%\n"
    }
   }
  },
  {
   "cell_type": "code",
   "execution_count": 59,
   "outputs": [],
   "source": [
    "# 정수 인코딩 과정에서 vocab_size 보다 큰 숫자가 부여된 단어들은 OOV로 변환\n",
    "# Out Of Vocabulary\n",
    "tokenizer = Tokenizer(vocab_size, oov_token='OOV')\n",
    "tokenizer.fit_on_texts(X_train)\n",
    "X_train = tokenizer.texts_to_sequences(X_train)\n",
    "X_test = tokenizer.texts_to_sequences(X_test)"
   ],
   "metadata": {
    "collapsed": false,
    "pycharm": {
     "name": "#%%\n"
    }
   }
  },
  {
   "cell_type": "code",
   "execution_count": 60,
   "outputs": [
    {
     "name": "stdout",
     "output_type": "stream",
     "text": [
      "리뷰의 최대 길이 : 3971\n",
      "리뷰의 평균 길이 : 6.308042694343178\n"
     ]
    },
    {
     "data": {
      "text/plain": "<Figure size 640x480 with 1 Axes>",
      "image/png": "[encoded data removed]"
     },
     "metadata": {},
     "output_type": "display_data"
    }
   ],
   "source": [
    "# 훈련 데이터의 리뷰 최대 길이 및 평균 길이 출력\n",
    "print('리뷰의 최대 길이 :', max(len(review) for review in X_train))\n",
    "print('리뷰의 평균 길이 :', sum(map(len, X_train)) / len(X_train))\n",
    "\n",
    "# 리뷰 길이 분포를 히스토그램 그리기\n",
    "plt.hist([len(review) for review in X_train], bins=50)\n",
    "plt.xlabel('length of samples')\n",
    "plt.ylabel('number of samples')\n",
    "plt.show()"
   ],
   "metadata": {
    "collapsed": false,
    "pycharm": {
     "name": "#%%\n"
    }
   }
  },
  {
   "cell_type": "code",
   "execution_count": 61,
   "outputs": [
    {
     "name": "stdout",
     "output_type": "stream",
     "text": [
      "길이가 75이하인 샘플의 비율 99.98446362905875\n"
     ]
    }
   ],
   "source": [
    "# 특정 길이(max_len) 이하의 샘플 비율 출력\n",
    "def below_threshold_len(max_len, nested_list):\n",
    "\tcount = 0\n",
    "\tfor sentence in nested_list:\n",
    "\t\tif len(sentence) <= max_len:\n",
    "\t\t\tcount += 1\n",
    "\tprint(f'길이가 {max_len}이하인 샘플의 비율 {(count) / len(nested_list) * 100}')\n",
    "\n",
    "\n",
    "# 특정 길이(max_len) 이하의 샘플 비율 출력\n",
    "max_len = 75\n",
    "below_threshold_len(max_len, X_train)"
   ],
   "metadata": {
    "collapsed": false,
    "pycharm": {
     "name": "#%%\n"
    }
   }
  },
  {
   "cell_type": "code",
   "execution_count": 64,
   "outputs": [],
   "source": [
    "# 훈련 및 테스트 데이터를 특정 길이(max_len)로 패딩\n",
    "X_train = pad_sequences(X_train, maxlen=max_len)\n",
    "X_test = pad_sequences(X_test, maxlen=max_len)"
   ],
   "metadata": {
    "collapsed": false,
    "pycharm": {
     "name": "#%%\n"
    }
   }
  },
  {
   "cell_type": "markdown",
   "source": [
    "##학습 시작##"
   ],
   "metadata": {
    "collapsed": false
   }
  },
  {
   "cell_type": "code",
   "execution_count": 66,
   "outputs": [
    {
     "name": "stdout",
     "output_type": "stream",
     "text": [
      "Epoch 1/7\n",
      "12631/12632 [============================>.] - ETA: 0s - loss: 0.5302 - acc: 0.7143WARNING:tensorflow:Can save best model only with val_accuracy available, skipping.\n",
      "12632/12632 [==============================] - 674s 53ms/step - loss: 0.5302 - acc: 0.7143 - val_loss: 0.5085 - val_acc: 0.7312\n",
      "Epoch 2/7\n",
      "12631/12632 [============================>.] - ETA: 0s - loss: 0.4976 - acc: 0.7426WARNING:tensorflow:Can save best model only with val_accuracy available, skipping.\n",
      "12632/12632 [==============================] - 676s 54ms/step - loss: 0.4976 - acc: 0.7426 - val_loss: 0.4975 - val_acc: 0.7400\n",
      "Epoch 3/7\n",
      "12632/12632 [==============================] - ETA: 0s - loss: 0.4828 - acc: 0.7550WARNING:tensorflow:Can save best model only with val_accuracy available, skipping.\n",
      "12632/12632 [==============================] - 684s 54ms/step - loss: 0.4828 - acc: 0.7550 - val_loss: 0.4945 - val_acc: 0.7435\n",
      "Epoch 4/7\n",
      "12631/12632 [============================>.] - ETA: 0s - loss: 0.4740 - acc: 0.7618WARNING:tensorflow:Can save best model only with val_accuracy available, skipping.\n",
      "12632/12632 [==============================] - 675s 53ms/step - loss: 0.4740 - acc: 0.7618 - val_loss: 0.4900 - val_acc: 0.7454\n",
      "Epoch 5/7\n",
      "12631/12632 [============================>.] - ETA: 0s - loss: 0.4674 - acc: 0.7665WARNING:tensorflow:Can save best model only with val_accuracy available, skipping.\n",
      "12632/12632 [==============================] - 675s 53ms/step - loss: 0.4674 - acc: 0.7665 - val_loss: 0.4911 - val_acc: 0.7446\n",
      "Epoch 6/7\n",
      "12632/12632 [==============================] - ETA: 0s - loss: 0.4613 - acc: 0.7704WARNING:tensorflow:Can save best model only with val_accuracy available, skipping.\n",
      "12632/12632 [==============================] - 671s 53ms/step - loss: 0.4613 - acc: 0.7704 - val_loss: 0.4914 - val_acc: 0.7446\n",
      "Epoch 7/7\n",
      "12632/12632 [==============================] - ETA: 0s - loss: 0.4550 - acc: 0.7747WARNING:tensorflow:Can save best model only with val_accuracy available, skipping.\n",
      "12632/12632 [==============================] - 674s 53ms/step - loss: 0.4550 - acc: 0.7747 - val_loss: 0.4956 - val_acc: 0.7433\n"
     ]
    }
   ],
   "source": [
    "from tensorflow.keras.layers import Embedding, Dense, GRU\n",
    "from tensorflow.keras.models import Sequential\n",
    "from tensorflow.keras.callbacks import EarlyStopping, ModelCheckpoint\n",
    "\n",
    "# 임베딩 차원과 은닉 유닛 수 설정\n",
    "embedding_dim = 100\n",
    "hidden_units = 128\n",
    "\n",
    "# 모델 구성\n",
    "model = Sequential()\n",
    "model.add(Embedding(vocab_size, embedding_dim))\n",
    "model.add(GRU(hidden_units))\n",
    "model.add(Dense(1, activation='sigmoid'))\n",
    "\n",
    "# 조기 종료 및 모델 체크포인트 설정\n",
    "es = EarlyStopping(monitor='val_loss', mode='min', verbose=1, patience=4)\n",
    "mc = ModelCheckpoint('activity_distinction_1.h5', monitor='val_accuracy', mode='max', verbose=1, save_best_only=True)\n",
    "\n",
    "# 모델 컴파일 및 훈련\n",
    "model.compile(optimizer='rmsprop', loss='binary_crossentropy', metrics=['acc'])\n",
    "history = model.fit(X_train, Y_train, epochs=7, callbacks=[es, mc], batch_size=64, validation_split=0.2)\n",
    "model.save('activity_distinction_1.h5')"
   ],
   "metadata": {
    "collapsed": false,
    "pycharm": {
     "name": "#%%\n"
    }
   }
  },
  {
   "cell_type": "code",
   "execution_count": 73,
   "outputs": [
    {
     "name": "stdout",
     "output_type": "stream",
     "text": [
      "7895/7895 [==============================] - 66s 8ms/step - loss: 0.4994 - acc: 0.7421\n",
      "테스트 정확도 : 0.7421\n"
     ]
    }
   ],
   "source": [
    "from tensorflow.keras.layers import Embedding, Dense, GRU\n",
    "from tensorflow.keras.models import Sequential\n",
    "from tensorflow.keras.models import load_model\n",
    "from tensorflow.keras.callbacks import EarlyStopping, ModelCheckpoint\n",
    "import pandas as pd\n",
    "import numpy as np\n",
    "import re\n",
    "import matplotlib.pyplot as plt\n",
    "import urllib.request\n",
    "from kiwipiepy import Kiwi\n",
    "from collections import Counter\n",
    "from sklearn.model_selection import train_test_split\n",
    "from tensorflow.keras.preprocessing.text import Tokenizer\n",
    "from tensorflow.keras.preprocessing.sequence import pad_sequences\n",
    "\n",
    "#모델 로딩 및 평가\n",
    "loaded_model = load_model('activity_distinction_2.h5')\n",
    "print('테스트 정확도 : %.4f' % (loaded_model.evaluate(X_test, Y_test)[1]))"
   ],
   "metadata": {
    "collapsed": false,
    "pycharm": {
     "name": "#%%\n"
    }
   }
  },
  {
   "cell_type": "code",
   "execution_count": 69,
   "outputs": [],
   "source": [
    "#문장 감정 예측 함수\n",
    "def sentiment_predict(new_sentence: str):\n",
    "\tnew_sentence = re.sub('r[^ㄱ-ㅎㅏ-ㅣ가-힣]', '', new_sentence)\n",
    "\tnew_sentence = tokenizing(new_sentence)\n",
    "\tencoded = tokenizer.texts_to_sequences([new_sentence])\n",
    "\tpad_new = pad_sequences(encoded, maxlen=max_len)\n",
    "\tscore = float(loaded_model.predict(pad_new))\n",
    "\n",
    "\tif score > 0.5:\n",
    "\t\tprint(\"{:.2f}% 확률로 활동성 리뷰입니다.\".format(score * 100))\n",
    "\telse:\n",
    "\t\tprint(\"{:.2f}% 확률로 비활동성 리뷰입니다.\".format((1 - score) * 100))"
   ],
   "metadata": {
    "collapsed": false,
    "pycharm": {
     "name": "#%%\n"
    }
   }
  },
  {
   "cell_type": "code",
   "execution_count": 70,
   "outputs": [
    {
     "name": "stdout",
     "output_type": "stream",
     "text": [
      "1/1 [==============================] - 0s 121ms/step\n",
      "94.31% 확률로 비활동성 리뷰입니다.\n"
     ]
    }
   ],
   "source": [
    "sentiment_predict('감기')"
   ],
   "metadata": {
    "collapsed": false,
    "pycharm": {
     "name": "#%%\n"
    }
   }
  },
  {
   "cell_type": "code",
   "execution_count": 71,
   "outputs": [],
   "source": [
    "lists = ['감기 걸렸당', '운동 갈사람?', '집에 누워있을래', '여행 가실분', '애버렌드 존잼', '독서중', '함 뜨자', '코로나 인가 ㄷㄷ','미세먼지 ㅈㄴ 많네', '롤 ㄱ?', '탕후루 존맛탱 ㄹㅇㅋㅋ', '술배뜰사람 구함', '집순이 등장', '집돌이', '난 뜨개질이 좋아', '헬스 is 마이 라이프', '집에서 귤이나 까먹어 ㅋㅋ', '꽃가루 ㅈㄴ 많노', '여름, 불꽃놀이, 낭만', '치킨 추천점']"
   ],
   "metadata": {
    "collapsed": false,
    "pycharm": {
     "name": "#%%\n"
    }
   }
  },
  {
   "cell_type": "code",
   "execution_count": 72,
   "outputs": [
    {
     "name": "stdout",
     "output_type": "stream",
     "text": [
      "감기 걸렸당\n",
      "1/1 [==============================] - 0s 12ms/step\n",
      "95.84% 확률로 비활동성 리뷰입니다.\n",
      "\n",
      "\n",
      "운동 갈사람?\n",
      "1/1 [==============================] - 0s 9ms/step\n",
      "72.47% 확률로 활동성 리뷰입니다.\n",
      "\n",
      "\n",
      "집에 누워있을래\n",
      "1/1 [==============================] - 0s 9ms/step\n",
      "69.95% 확률로 비활동성 리뷰입니다.\n",
      "\n",
      "\n",
      "여행 가실분\n",
      "1/1 [==============================] - 0s 8ms/step\n",
      "94.34% 확률로 활동성 리뷰입니다.\n",
      "\n",
      "\n",
      "애버렌드 존잼\n",
      "1/1 [==============================] - 0s 9ms/step\n",
      "65.76% 확률로 활동성 리뷰입니다.\n",
      "\n",
      "\n",
      "독서중\n",
      "1/1 [==============================] - 0s 8ms/step\n",
      "95.67% 확률로 비활동성 리뷰입니다.\n",
      "\n",
      "\n",
      "함 뜨자\n",
      "1/1 [==============================] - 0s 8ms/step\n",
      "73.54% 확률로 활동성 리뷰입니다.\n",
      "\n",
      "\n",
      "코로나 인가 ㄷㄷ\n",
      "1/1 [==============================] - 0s 8ms/step\n",
      "58.05% 확률로 활동성 리뷰입니다.\n",
      "\n",
      "\n",
      "미세먼지 ㅈㄴ 많네\n",
      "1/1 [==============================] - 0s 7ms/step\n",
      "70.35% 확률로 비활동성 리뷰입니다.\n",
      "\n",
      "\n",
      "롤 ㄱ?\n",
      "1/1 [==============================] - 0s 9ms/step\n",
      "70.57% 확률로 활동성 리뷰입니다.\n",
      "\n",
      "\n",
      "탕후루 존맛탱 ㄹㅇㅋㅋ\n",
      "1/1 [==============================] - 0s 9ms/step\n",
      "67.97% 확률로 활동성 리뷰입니다.\n",
      "\n",
      "\n",
      "술배뜰사람 구함\n",
      "1/1 [==============================] - 0s 9ms/step\n",
      "80.00% 확률로 활동성 리뷰입니다.\n",
      "\n",
      "\n",
      "집순이 등장\n",
      "1/1 [==============================] - 0s 9ms/step\n",
      "65.10% 확률로 활동성 리뷰입니다.\n",
      "\n",
      "\n",
      "집돌이\n",
      "1/1 [==============================] - 0s 8ms/step\n",
      "54.33% 확률로 비활동성 리뷰입니다.\n",
      "\n",
      "\n",
      "난 뜨개질이 좋아\n",
      "1/1 [==============================] - 0s 10ms/step\n",
      "80.98% 확률로 비활동성 리뷰입니다.\n",
      "\n",
      "\n",
      "헬스 is 마이 라이프\n",
      "1/1 [==============================] - 0s 8ms/step\n",
      "82.45% 확률로 활동성 리뷰입니다.\n",
      "\n",
      "\n",
      "집에서 귤이나 까먹어 ㅋㅋ\n",
      "1/1 [==============================] - 0s 9ms/step\n",
      "54.07% 확률로 비활동성 리뷰입니다.\n",
      "\n",
      "\n",
      "꽃가루 ㅈㄴ 많노\n",
      "1/1 [==============================] - 0s 8ms/step\n",
      "77.89% 확률로 비활동성 리뷰입니다.\n",
      "\n",
      "\n",
      "여름, 불꽃놀이, 낭만\n",
      "1/1 [==============================] - 0s 9ms/step\n",
      "93.06% 확률로 활동성 리뷰입니다.\n",
      "\n",
      "\n",
      "치킨 추천점\n",
      "1/1 [==============================] - 0s 9ms/step\n",
      "67.95% 확률로 활동성 리뷰입니다.\n",
      "\n",
      "\n"
     ]
    }
   ],
   "source": [
    "for i in lists:\n",
    "\tprint(i)\n",
    "\tsentiment_predict(i),print('\\n')"
   ],
   "metadata": {
    "collapsed": false,
    "pycharm": {
     "name": "#%%\n"
    }
   }
  },
  {
   "cell_type": "code",
   "execution_count": null,
   "outputs": [],
   "source": [],
   "metadata": {
    "collapsed": false,
    "pycharm": {
     "name": "#%%\n"
    }
   }
  },
  {
   "cell_type": "code",
   "execution_count": null,
   "outputs": [],
   "source": [],
   "metadata": {
    "collapsed": false,
    "pycharm": {
     "name": "#%%\n"
    }
   }
  },
  {
   "cell_type": "code",
   "execution_count": null,
   "outputs": [],
   "source": [],
   "metadata": {
    "collapsed": false,
    "pycharm": {
     "name": "#%%\n"
    }
   }
  },
  {
   "cell_type": "code",
   "execution_count": null,
   "outputs": [],
   "source": [],
   "metadata": {
    "collapsed": false,
    "pycharm": {
     "name": "#%%\n"
    }
   }
  },
  {
   "cell_type": "code",
   "execution_count": null,
   "outputs": [],
   "source": [],
   "metadata": {
    "collapsed": false,
    "pycharm": {
     "name": "#%%\n"
    }
   }
  },
  {
   "cell_type": "code",
   "execution_count": null,
   "outputs": [],
   "source": [],
   "metadata": {
    "collapsed": false,
    "pycharm": {
     "name": "#%%\n"
    }
   }
  },
  {
   "cell_type": "code",
   "execution_count": null,
   "outputs": [],
   "source": [],
   "metadata": {
    "collapsed": false,
    "pycharm": {
     "name": "#%%\n"
    }
   }
  },
  {
   "cell_type": "code",
   "execution_count": null,
   "outputs": [],
   "source": [],
   "metadata": {
    "collapsed": false,
    "pycharm": {
     "name": "#%%\n"
    }
   }
  }
 ],
 "metadata": {
  "kernelspec": {
   "display_name": "Python 3",
   "language": "python",
   "name": "python3"
  },
  "language_info": {
   "codemirror_mode": {
    "name": "ipython",
    "version": 2
   },
   "file_extension": ".py",
   "mimetype": "text/x-python",
   "name": "python",
   "nbconvert_exporter": "python",
   "pygments_lexer": "ipython2",
   "version": "2.7.6"
  }
 },
 "nbformat": 4,
 "nbformat_minor": 0
}