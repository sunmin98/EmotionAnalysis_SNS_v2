{
 "cells": [
  {
   "cell_type": "markdown",
   "source": [],
   "metadata": {
    "collapsed": false
   }
  },
  {
   "cell_type": "markdown",
   "source": [
    "# *****************************************************************************\n",
    "#\n",
    "#\tbrief : JSON 데이터에서 추출한 csv파일을 라벨링 및 전처리 하기 위해 작성 하였습니다.\n",
    "#           비활동성은 0으로 라벨링하였으며 데이터수는 780,000개입니다.\n",
    "#           활동성은 1으로 라벨링하였으며 데이터수 1,000,000개이기에 랜덤한 데이터를 삭제하여 780,000개로 줄여\n",
    "#           merged_file.csv로 병합하였습니다\n",
    "#\tfile : csv_labeling.ipynb\n",
    "#\tdate : 2023-10-16\n",
    "#\tautor : 김선민\n",
    "#\n",
    "# *****************************************************************************"
   ],
   "metadata": {
    "collapsed": false
   }
  },
  {
   "cell_type": "code",
   "execution_count": 3,
   "metadata": {
    "collapsed": true
   },
   "outputs": [],
   "source": [
    "import pandas as pd\n",
    "import numpy as np\n",
    "import csv"
   ]
  },
  {
   "cell_type": "code",
   "execution_count": 4,
   "outputs": [],
   "source": [
    "columes=['reviews', 'label']"
   ],
   "metadata": {
    "collapsed": false,
    "pycharm": {
     "name": "#%%\n"
    }
   }
  },
  {
   "cell_type": "markdown",
   "source": [
    "##비활동성 데이터 0으로 라벨링##"
   ],
   "metadata": {
    "collapsed": false
   }
  },
  {
   "cell_type": "code",
   "execution_count": null,
   "outputs": [],
   "source": [
    "df = pd.read_csv(\"Json_PreProcessing/CSV_DATA/dactivate.csv\",encoding=\"utf-8-sig\",names=columes)\n",
    "df.head()\n",
    "\n",
    "# 'label' 열의 누락된 값(NaN)을 0으로 채우고 정수로 변환\n",
    "df['label'] = df['label'].fillna(0).astype(int)\n",
    "df.head()\n",
    "df.to_csv(\"Json_PreProcessing/CSV_DATA/Pre_deactivate1.csv\", sep=\"\\t\", header=False, index=False)\n",
    "\n",
    "df = pd.read_csv(\"Json_PreProcessing/CSV_DATA/Pre_deactivate1.csv\", sep=\"\\t\", header=None, encoding=\"utf-8-sig\",names=columes)\n",
    "print(len(df))\n",
    "df.head()"
   ],
   "metadata": {
    "collapsed": false,
    "pycharm": {
     "name": "#%%\n"
    }
   }
  },
  {
   "cell_type": "markdown",
   "source": [
    "##활동성 데이터는 비활동성 데이터보다 데이터량이 많아 780,000개로 랜덤하게 줄이고, 1으로 라벨링##"
   ],
   "metadata": {
    "collapsed": false
   }
  },
  {
   "cell_type": "code",
   "execution_count": null,
   "outputs": [],
   "source": [
    "import random\n",
    "\n",
    "df = pd.read_csv(\"Json_PreProcessing/CSV_DATA/activate.csv\",encoding=\"utf-8-sig\",names=columes)\n",
    "df.head()\n",
    "\n",
    "# 'label' 열의 누락된 값(NaN)을 1으로 채우고 정수로 변환\n",
    "df['label'] = df['label'].fillna(1).astype(int)\n",
    "df.head()\n",
    "df.to_csv(\"Json_PreProcessing/CSV_DATA/Pre_activate1.csv\", sep=\"\\t\", header=False, index=False)\n",
    "\n",
    "df = pd.read_csv(\"Json_PreProcessing/CSV_DATA/Pre_activate1.csv\", sep=\"\\t\", header=None, encoding=\"utf-8-sig\",names=columes)\n",
    "print(len(df))\n",
    "df.head()\n",
    "\n",
    "#원하는 길이 설정\n",
    "desired_length = 780000\n",
    "\n",
    "if len(df) > desired_length:\n",
    "    # 데이터프레임에서 인덱스를 무작위로 선택하여 삭제.\n",
    "    indices_to_remove = random.sample(range(len(df)), len(df) - desired_length)\n",
    "    df = df.drop(indices_to_remove)\n",
    "\n",
    "# 새로운 CSV 파일에 저장\n",
    "output_file_path = 'Json_PreProcessing/CSV_DATA/Pre_activate1.csv'\n",
    "df.to_csv(output_file_path, index=False)"
   ],
   "metadata": {
    "collapsed": false,
    "pycharm": {
     "name": "#%%\n"
    }
   }
  },
  {
   "cell_type": "markdown",
   "source": [
    "##비활동, 활동 데이터 병합##"
   ],
   "metadata": {
    "collapsed": false
   }
  },
  {
   "cell_type": "code",
   "execution_count": null,
   "outputs": [],
   "source": [
    "import csv\n",
    "import pandas as pd\n",
    "\n",
    "# 두 개의 CSV 파일 경로\n",
    "input_file1 = \"Pre_activate1.csv\"\n",
    "input_file2 = \"Pre_deactivate1.csv\"\n",
    "output_file = \"merged_file.csv\"  # 병합된 CSV 파일 이름\n",
    "\n",
    "# 데이터를 저장할 DataFrame\n",
    "merged_data = pd.DataFrame()\n",
    "\n",
    "# 첫 번째 CSV 파일 읽기\n",
    "df1 = pd.read_csv(input_file1, sep=\"\\t\", header=None, encoding=\"utf-8-sig\")\n",
    "merged_data = pd.concat([merged_data, df1])\n",
    "\n",
    "# 두 번째 CSV 파일 읽기\n",
    "df2 = pd.read_csv(input_file2, sep=\"\\t\", header=None, encoding=\"utf-8-sig\")\n",
    "merged_data = pd.concat([merged_data, df2])\n",
    "\n",
    "# 병합된 데이터를 CSV 파일로 저장\n",
    "merged_data.to_csv(output_file, sep=\"\\t\", header=None, index=False, encoding=\"utf-8-sig\")\n",
    "\n",
    "print(f\"CSV files merged into {output_file}\")"
   ],
   "metadata": {
    "collapsed": false,
    "pycharm": {
     "name": "#%%\n"
    }
   }
  },
  {
   "cell_type": "code",
   "execution_count": null,
   "outputs": [],
   "source": [],
   "metadata": {
    "collapsed": false,
    "pycharm": {
     "name": "#%%\n"
    }
   }
  }
 ],
 "metadata": {
  "kernelspec": {
   "display_name": "Python 3",
   "language": "python",
   "name": "python3"
  },
  "language_info": {
   "codemirror_mode": {
    "name": "ipython",
    "version": 2
   },
   "file_extension": ".py",
   "mimetype": "text/x-python",
   "name": "python",
   "nbconvert_exporter": "python",
   "pygments_lexer": "ipython2",
   "version": "2.7.6"
  }
 },
 "nbformat": 4,
 "nbformat_minor": 0
}