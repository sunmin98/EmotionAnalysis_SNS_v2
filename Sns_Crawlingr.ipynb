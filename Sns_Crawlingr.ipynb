{
 "cells": [
  {
   "cell_type": "code",
   "execution_count": null,
   "outputs": [],
   "source": [
    "미완 수정 필요!!"
   ],
   "metadata": {
    "collapsed": false,
    "pycharm": {
     "name": "#%%\n"
    }
   }
  },
  {
   "cell_type": "code",
   "execution_count": 13,
   "outputs": [],
   "source": [
    "from INSTA_PACKAGE.instaloader import *\n",
    "from selenium import webdriver\n",
    "from selenium.webdriver.common.by import By\n",
    "from selenium.webdriver.chrome.options import Options\n",
    "from selenium.webdriver.common.keys import Keys\n",
    "import time\n",
    "\n",
    "instance = instaloader.Instaloader()"
   ],
   "metadata": {
    "collapsed": false,
    "pycharm": {
     "name": "#%%\n"
    }
   }
  },
  {
   "cell_type": "code",
   "execution_count": 14,
   "outputs": [
    {
     "name": "stdout",
     "output_type": "stream",
     "text": [
      "로그인 완료\n"
     ]
    }
   ],
   "source": [
    "driver = webdriver.Chrome()\n",
    "options = Options()\n",
    "options.add_experimental_option('detach', True)  # 브라우저가 바로 닫힘 방지\n",
    "options.add_experimental_option('excludeSwitches', ['enable-logging'])  # 불필요한 에러메세지 삭제\n",
    "\n",
    "driver.get('https://www.instagram.com')\n",
    "time.sleep(1)\n",
    "# 인스타그램 로그인을 위한 계정 정보\n",
    "email = \"sunmin980130@gmail.com\"\n",
    "password = \"!Sunmin980130\"\n",
    "input_id = driver.find_element(By.CSS_SELECTOR, 'input[name=\"username\"]').send_keys(email)\n",
    "input_pw = driver.find_element(By.CSS_SELECTOR, 'input[name=\"password\"]').send_keys(password, Keys.ENTER)\n",
    "print(\"로그인 완료\")"
   ],
   "metadata": {
    "collapsed": false,
    "pycharm": {
     "name": "#%%\n"
    }
   }
  },
  {
   "cell_type": "code",
   "execution_count": 16,
   "outputs": [
    {
     "name": "stdout",
     "output_type": "stream",
     "text": [
      "Retrieving posts from profile nasa.\n",
      "[1/5] "
     ]
    },
    {
     "ename": "KeyError",
     "evalue": "'date_utc'",
     "output_type": "error",
     "traceback": [
      "\u001B[0;31m---------------------------------------------------------------------------\u001B[0m",
      "\u001B[0;31mKeyError\u001B[0m                                  Traceback (most recent call last)",
      "Cell \u001B[0;32mIn[16], line 2\u001B[0m\n\u001B[1;32m      1\u001B[0m \u001B[38;5;66;03m# insta_ID=input()\u001B[39;00m\n\u001B[0;32m----> 2\u001B[0m \u001B[43minstance\u001B[49m\u001B[38;5;241;43m.\u001B[39;49m\u001B[43mdownload_profile\u001B[49m\u001B[43m(\u001B[49m\u001B[43mprofile_name\u001B[49m\u001B[38;5;241;43m=\u001B[39;49m\u001B[38;5;124;43m'\u001B[39;49m\u001B[38;5;124;43mnasa\u001B[39;49m\u001B[38;5;124;43m'\u001B[39;49m\u001B[43m,\u001B[49m\u001B[43m \u001B[49m\u001B[43mprofile_pic\u001B[49m\u001B[38;5;241;43m=\u001B[39;49m\u001B[38;5;28;43;01mFalse\u001B[39;49;00m\u001B[43m,\u001B[49m\u001B[43m \u001B[49m\u001B[43mmax_count\u001B[49m\u001B[38;5;241;43m=\u001B[39;49m\u001B[38;5;241;43m5\u001B[39;49m\u001B[43m)\u001B[49m\n",
      "File \u001B[0;32m~/PycharmProjects/EmotionAnalysis_SNS/INSTA_PACKAGE/instaloader/instaloader.py:1620\u001B[0m, in \u001B[0;36mdownload_profile\u001B[0;34m(self, profile_name, max_count, profile_pic, profile_pic_only, fast_update, download_stories, download_stories_only, download_tagged, download_tagged_only, post_filter, storyitem_filter)\u001B[0m\n\u001B[1;32m   1618\u001B[0m \u001B[38;5;66;03m# Iterate over pictures and download them\u001B[39;00m\n\u001B[1;32m   1619\u001B[0m \u001B[38;5;28mself\u001B[39m\u001B[38;5;241m.\u001B[39mcontext\u001B[38;5;241m.\u001B[39mlog(\u001B[38;5;124m\"\u001B[39m\u001B[38;5;124mRetrieving posts from profile \u001B[39m\u001B[38;5;132;01m{}\u001B[39;00m\u001B[38;5;124m.\u001B[39m\u001B[38;5;124m\"\u001B[39m\u001B[38;5;241m.\u001B[39mformat(profile_name))\n\u001B[0;32m-> 1620\u001B[0m txt1_list \u001B[38;5;241m=\u001B[39m []\n\u001B[1;32m   1621\u001B[0m \u001B[38;5;28mself\u001B[39m\u001B[38;5;241m.\u001B[39mposts_download_loop(profile\u001B[38;5;241m.\u001B[39mget_posts(), profile_name, fast_update, post_filter,\n\u001B[1;32m   1622\u001B[0m \t\t\t\t\t\t total_count\u001B[38;5;241m=\u001B[39mprofile\u001B[38;5;241m.\u001B[39mmediacount, owner_profile\u001B[38;5;241m=\u001B[39mprofile, max_count\u001B[38;5;241m=\u001B[39mmax_count)\n\u001B[1;32m   1623\u001B[0m \u001B[38;5;28;01mreturn\u001B[39;00m txt_list\n",
      "File \u001B[0;32m~/PycharmProjects/EmotionAnalysis_SNS/INSTA_PACKAGE/instaloader/instaloader.py:1096\u001B[0m, in \u001B[0;36mInstaloader.posts_download_loop\u001B[0;34m(self, txt_list, posts, target, fast_update, post_filter, max_count, total_count, owner_profile, takewhile)\u001B[0m\n\u001B[1;32m   1094\u001B[0m post_changed \u001B[38;5;241m=\u001B[39m \u001B[38;5;28;01mFalse\u001B[39;00m\n\u001B[1;32m   1095\u001B[0m \u001B[38;5;28;01mwhile\u001B[39;00m \u001B[38;5;28;01mTrue\u001B[39;00m:\n\u001B[0;32m-> 1096\u001B[0m \t\u001B[38;5;28;01mtry\u001B[39;00m:\n\u001B[1;32m   1097\u001B[0m \t\tdownloaded \u001B[38;5;241m=\u001B[39m \u001B[38;5;28mself\u001B[39m\u001B[38;5;241m.\u001B[39mdownload_post(post, target\u001B[38;5;241m=\u001B[39mtarget, txt_list\u001B[38;5;241m=\u001B[39mtxt_list)\n\u001B[1;32m   1098\u001B[0m \t\t\u001B[38;5;28mprint\u001B[39m(downloaded, \u001B[38;5;124m\"\u001B[39m\u001B[38;5;124mposts downloads\u001B[39m\u001B[38;5;124m\"\u001B[39m)\n",
      "File \u001B[0;32m~/PycharmProjects/EmotionAnalysis_SNS/INSTA_PACKAGE/instaloader/instaloader.py:732\u001B[0m, in \u001B[0;36mInstaloader.download_post\u001B[0;34m(self, post, target, txt_list)\u001B[0m\n\u001B[1;32m    729\u001B[0m \t\u001B[38;5;28;01mreturn\u001B[39;00m \u001B[38;5;28;01mTrue\u001B[39;00m\n\u001B[1;32m    731\u001B[0m dirname \u001B[38;5;241m=\u001B[39m _PostPathFormatter(post, \u001B[38;5;28mself\u001B[39m\u001B[38;5;241m.\u001B[39msanitize_paths)\u001B[38;5;241m.\u001B[39mformat(\u001B[38;5;28mself\u001B[39m\u001B[38;5;241m.\u001B[39mdirname_pattern, target\u001B[38;5;241m=\u001B[39mtarget)\n\u001B[0;32m--> 732\u001B[0m filename_template \u001B[38;5;241m=\u001B[39m os\u001B[38;5;241m.\u001B[39mpath\u001B[38;5;241m.\u001B[39mjoin(dirname, \u001B[38;5;28;43mself\u001B[39;49m\u001B[38;5;241;43m.\u001B[39;49m\u001B[43mformat_filename\u001B[49m\u001B[43m(\u001B[49m\u001B[43mpost\u001B[49m\u001B[43m,\u001B[49m\u001B[43m \u001B[49m\u001B[43mtarget\u001B[49m\u001B[38;5;241;43m=\u001B[39;49m\u001B[43mtarget\u001B[49m\u001B[43m)\u001B[49m)\n\u001B[1;32m    733\u001B[0m filename \u001B[38;5;241m=\u001B[39m \u001B[38;5;28mself\u001B[39m\u001B[38;5;241m.\u001B[39m__prepare_filename(filename_template, \u001B[38;5;28;01mlambda\u001B[39;00m: post\u001B[38;5;241m.\u001B[39murl)\n\u001B[1;32m    735\u001B[0m \u001B[38;5;66;03m# !!!날짜부분\u001B[39;00m\n\u001B[1;32m    736\u001B[0m \u001B[38;5;66;03m# txt_list.append(filename)\u001B[39;00m\n\u001B[1;32m    737\u001B[0m \n\u001B[1;32m    738\u001B[0m \u001B[38;5;66;03m# Download the image(s) / video thumbnail and videos within sidecars if desired\u001B[39;00m\n",
      "File \u001B[0;32m~/PycharmProjects/EmotionAnalysis_SNS/INSTA_PACKAGE/instaloader/instaloader.py:699\u001B[0m, in \u001B[0;36mInstaloader.format_filename\u001B[0;34m(self, item, target)\u001B[0m\n\u001B[1;32m    694\u001B[0m \u001B[38;5;28;01mdef\u001B[39;00m \u001B[38;5;21mformat_filename\u001B[39m(\u001B[38;5;28mself\u001B[39m, item: Union[Post, StoryItem, PostSidecarNode, TitlePic],\n\u001B[1;32m    695\u001B[0m \t\t\t\t\ttarget: Optional[Union[\u001B[38;5;28mstr\u001B[39m, Path]] \u001B[38;5;241m=\u001B[39m \u001B[38;5;28;01mNone\u001B[39;00m):\n\u001B[1;32m    696\u001B[0m \u001B[38;5;250m\t\u001B[39m\u001B[38;5;124;03m\"\"\"Format filename of a :class:`Post` or :class:`StoryItem` according to ``filename-pattern`` parameter.\u001B[39;00m\n\u001B[1;32m    697\u001B[0m \n\u001B[1;32m    698\u001B[0m \u001B[38;5;124;03m\t.. versionadded:: 4.1\"\"\"\u001B[39;00m\n\u001B[0;32m--> 699\u001B[0m \t\u001B[38;5;28;01mreturn\u001B[39;00m \u001B[43m_PostPathFormatter\u001B[49m\u001B[43m(\u001B[49m\u001B[43mitem\u001B[49m\u001B[43m,\u001B[49m\u001B[43m \u001B[49m\u001B[38;5;28;43mself\u001B[39;49m\u001B[38;5;241;43m.\u001B[39;49m\u001B[43msanitize_paths\u001B[49m\u001B[43m)\u001B[49m\u001B[38;5;241;43m.\u001B[39;49m\u001B[43mformat\u001B[49m\u001B[43m(\u001B[49m\u001B[38;5;28;43mself\u001B[39;49m\u001B[38;5;241;43m.\u001B[39;49m\u001B[43mfilename_pattern\u001B[49m\u001B[43m,\u001B[49m\u001B[43m \u001B[49m\u001B[43mtarget\u001B[49m\u001B[38;5;241;43m=\u001B[39;49m\u001B[43mtarget\u001B[49m\u001B[43m)\u001B[49m\n",
      "File \u001B[0;32m~/anaconda3/envs/EmotionAnalysis_SNS/lib/python3.8/string.py:163\u001B[0m, in \u001B[0;36mFormatter.format\u001B[0;34m(self, format_string, *args, **kwargs)\u001B[0m\n\u001B[1;32m    162\u001B[0m \u001B[38;5;28;01mdef\u001B[39;00m \u001B[38;5;21mformat\u001B[39m(\u001B[38;5;28mself\u001B[39m, format_string, \u001B[38;5;241m/\u001B[39m, \u001B[38;5;241m*\u001B[39margs, \u001B[38;5;241m*\u001B[39m\u001B[38;5;241m*\u001B[39mkwargs):\n\u001B[0;32m--> 163\u001B[0m     \u001B[38;5;28;01mreturn\u001B[39;00m \u001B[38;5;28;43mself\u001B[39;49m\u001B[38;5;241;43m.\u001B[39;49m\u001B[43mvformat\u001B[49m\u001B[43m(\u001B[49m\u001B[43mformat_string\u001B[49m\u001B[43m,\u001B[49m\u001B[43m \u001B[49m\u001B[43margs\u001B[49m\u001B[43m,\u001B[49m\u001B[43m \u001B[49m\u001B[43mkwargs\u001B[49m\u001B[43m)\u001B[49m\n",
      "File \u001B[0;32m~/anaconda3/envs/EmotionAnalysis_SNS/lib/python3.8/string.py:167\u001B[0m, in \u001B[0;36mFormatter.vformat\u001B[0;34m(self, format_string, args, kwargs)\u001B[0m\n\u001B[1;32m    165\u001B[0m \u001B[38;5;28;01mdef\u001B[39;00m \u001B[38;5;21mvformat\u001B[39m(\u001B[38;5;28mself\u001B[39m, format_string, args, kwargs):\n\u001B[1;32m    166\u001B[0m     used_args \u001B[38;5;241m=\u001B[39m \u001B[38;5;28mset\u001B[39m()\n\u001B[0;32m--> 167\u001B[0m     result, _ \u001B[38;5;241m=\u001B[39m \u001B[38;5;28;43mself\u001B[39;49m\u001B[38;5;241;43m.\u001B[39;49m\u001B[43m_vformat\u001B[49m\u001B[43m(\u001B[49m\u001B[43mformat_string\u001B[49m\u001B[43m,\u001B[49m\u001B[43m \u001B[49m\u001B[43margs\u001B[49m\u001B[43m,\u001B[49m\u001B[43m \u001B[49m\u001B[43mkwargs\u001B[49m\u001B[43m,\u001B[49m\u001B[43m \u001B[49m\u001B[43mused_args\u001B[49m\u001B[43m,\u001B[49m\u001B[43m \u001B[49m\u001B[38;5;241;43m2\u001B[39;49m\u001B[43m)\u001B[49m\n\u001B[1;32m    168\u001B[0m     \u001B[38;5;28mself\u001B[39m\u001B[38;5;241m.\u001B[39mcheck_unused_args(used_args, args, kwargs)\n\u001B[1;32m    169\u001B[0m     \u001B[38;5;28;01mreturn\u001B[39;00m result\n",
      "File \u001B[0;32m~/anaconda3/envs/EmotionAnalysis_SNS/lib/python3.8/string.py:207\u001B[0m, in \u001B[0;36mFormatter._vformat\u001B[0;34m(self, format_string, args, kwargs, used_args, recursion_depth, auto_arg_index)\u001B[0m\n\u001B[1;32m    203\u001B[0m     auto_arg_index \u001B[38;5;241m=\u001B[39m \u001B[38;5;28;01mFalse\u001B[39;00m\n\u001B[1;32m    205\u001B[0m \u001B[38;5;66;03m# given the field_name, find the object it references\u001B[39;00m\n\u001B[1;32m    206\u001B[0m \u001B[38;5;66;03m#  and the argument it came from\u001B[39;00m\n\u001B[0;32m--> 207\u001B[0m obj, arg_used \u001B[38;5;241m=\u001B[39m \u001B[38;5;28;43mself\u001B[39;49m\u001B[38;5;241;43m.\u001B[39;49m\u001B[43mget_field\u001B[49m\u001B[43m(\u001B[49m\u001B[43mfield_name\u001B[49m\u001B[43m,\u001B[49m\u001B[43m \u001B[49m\u001B[43margs\u001B[49m\u001B[43m,\u001B[49m\u001B[43m \u001B[49m\u001B[43mkwargs\u001B[49m\u001B[43m)\u001B[49m\n\u001B[1;32m    208\u001B[0m used_args\u001B[38;5;241m.\u001B[39madd(arg_used)\n\u001B[1;32m    210\u001B[0m \u001B[38;5;66;03m# do any conversion on the resulting object\u001B[39;00m\n",
      "File \u001B[0;32m~/anaconda3/envs/EmotionAnalysis_SNS/lib/python3.8/string.py:272\u001B[0m, in \u001B[0;36mFormatter.get_field\u001B[0;34m(self, field_name, args, kwargs)\u001B[0m\n\u001B[1;32m    269\u001B[0m \u001B[38;5;28;01mdef\u001B[39;00m \u001B[38;5;21mget_field\u001B[39m(\u001B[38;5;28mself\u001B[39m, field_name, args, kwargs):\n\u001B[1;32m    270\u001B[0m     first, rest \u001B[38;5;241m=\u001B[39m _string\u001B[38;5;241m.\u001B[39mformatter_field_name_split(field_name)\n\u001B[0;32m--> 272\u001B[0m     obj \u001B[38;5;241m=\u001B[39m \u001B[38;5;28;43mself\u001B[39;49m\u001B[38;5;241;43m.\u001B[39;49m\u001B[43mget_value\u001B[49m\u001B[43m(\u001B[49m\u001B[43mfirst\u001B[49m\u001B[43m,\u001B[49m\u001B[43m \u001B[49m\u001B[43margs\u001B[49m\u001B[43m,\u001B[49m\u001B[43m \u001B[49m\u001B[43mkwargs\u001B[49m\u001B[43m)\u001B[49m\n\u001B[1;32m    274\u001B[0m     \u001B[38;5;66;03m# loop through the rest of the field_name, doing\u001B[39;00m\n\u001B[1;32m    275\u001B[0m     \u001B[38;5;66;03m#  getattr or getitem as needed\u001B[39;00m\n\u001B[1;32m    276\u001B[0m     \u001B[38;5;28;01mfor\u001B[39;00m is_attr, i \u001B[38;5;129;01min\u001B[39;00m rest:\n",
      "File \u001B[0;32m~/PycharmProjects/EmotionAnalysis_SNS/INSTA_PACKAGE/instaloader/instaloader.py:156\u001B[0m, in \u001B[0;36m_PostPathFormatter.get_value\u001B[0;34m(self, key, args, kwargs)\u001B[0m\n\u001B[1;32m    155\u001B[0m \u001B[38;5;28;01mdef\u001B[39;00m \u001B[38;5;21mget_value\u001B[39m(\u001B[38;5;28mself\u001B[39m, key, args, kwargs):\n\u001B[0;32m--> 156\u001B[0m \tret \u001B[38;5;241m=\u001B[39m \u001B[38;5;28;43msuper\u001B[39;49m\u001B[43m(\u001B[49m\u001B[43m)\u001B[49m\u001B[38;5;241;43m.\u001B[39;49m\u001B[43mget_value\u001B[49m\u001B[43m(\u001B[49m\u001B[43mkey\u001B[49m\u001B[43m,\u001B[49m\u001B[43m \u001B[49m\u001B[43margs\u001B[49m\u001B[43m,\u001B[49m\u001B[43m \u001B[49m\u001B[43mkwargs\u001B[49m\u001B[43m)\u001B[49m\n\u001B[1;32m    157\u001B[0m \t\u001B[38;5;28;01mif\u001B[39;00m \u001B[38;5;129;01mnot\u001B[39;00m \u001B[38;5;28misinstance\u001B[39m(ret, \u001B[38;5;28mstr\u001B[39m):\n\u001B[1;32m    158\u001B[0m \t\t\u001B[38;5;28;01mreturn\u001B[39;00m ret\n",
      "File \u001B[0;32m~/PycharmProjects/EmotionAnalysis_SNS/INSTA_PACKAGE/instaloader/instaloader.py:133\u001B[0m, in \u001B[0;36m_ArbitraryItemFormatter.get_value\u001B[0;34m(self, key, args, kwargs)\u001B[0m\n\u001B[1;32m    131\u001B[0m \u001B[38;5;28;01mif\u001B[39;00m \u001B[38;5;28mhasattr\u001B[39m(\u001B[38;5;28mself\u001B[39m\u001B[38;5;241m.\u001B[39m_item, key):\n\u001B[1;32m    132\u001B[0m \t\u001B[38;5;28;01mreturn\u001B[39;00m \u001B[38;5;28mgetattr\u001B[39m(\u001B[38;5;28mself\u001B[39m\u001B[38;5;241m.\u001B[39m_item, key)\n\u001B[0;32m--> 133\u001B[0m \u001B[38;5;28;01mreturn\u001B[39;00m \u001B[38;5;28;43msuper\u001B[39;49m\u001B[43m(\u001B[49m\u001B[43m)\u001B[49m\u001B[38;5;241;43m.\u001B[39;49m\u001B[43mget_value\u001B[49m\u001B[43m(\u001B[49m\u001B[43mkey\u001B[49m\u001B[43m,\u001B[49m\u001B[43m \u001B[49m\u001B[43margs\u001B[49m\u001B[43m,\u001B[49m\u001B[43m \u001B[49m\u001B[43mkwargs\u001B[49m\u001B[43m)\u001B[49m\n",
      "File \u001B[0;32m~/anaconda3/envs/EmotionAnalysis_SNS/lib/python3.8/string.py:229\u001B[0m, in \u001B[0;36mFormatter.get_value\u001B[0;34m(self, key, args, kwargs)\u001B[0m\n\u001B[1;32m    227\u001B[0m     \u001B[38;5;28;01mreturn\u001B[39;00m args[key]\n\u001B[1;32m    228\u001B[0m \u001B[38;5;28;01melse\u001B[39;00m:\n\u001B[0;32m--> 229\u001B[0m     \u001B[38;5;28;01mreturn\u001B[39;00m \u001B[43mkwargs\u001B[49m\u001B[43m[\u001B[49m\u001B[43mkey\u001B[49m\u001B[43m]\u001B[49m\n",
      "\u001B[0;31mKeyError\u001B[0m: 'date_utc'"
     ]
    }
   ],
   "source": [
    "# insta_ID=input()\n",
    "insta_list=[]\n",
    "instance.download_profile(profile_name='nasa', profile_pic=False, max_count=5,insta_list=[])"
   ],
   "metadata": {
    "collapsed": false,
    "pycharm": {
     "name": "#%%\n"
    }
   }
  },
  {
   "cell_type": "markdown",
   "source": [],
   "metadata": {
    "collapsed": false
   }
  },
  {
   "cell_type": "code",
   "execution_count": null,
   "outputs": [],
   "source": [],
   "metadata": {
    "collapsed": false,
    "pycharm": {
     "name": "#%%\n"
    }
   }
  },
  {
   "cell_type": "code",
   "execution_count": 6,
   "outputs": [],
   "source": [],
   "metadata": {
    "collapsed": false,
    "pycharm": {
     "name": "#%%\n"
    }
   }
  },
  {
   "cell_type": "code",
   "execution_count": null,
   "outputs": [],
   "source": [],
   "metadata": {
    "collapsed": false,
    "pycharm": {
     "name": "#%%\n"
    }
   }
  },
  {
   "cell_type": "code",
   "execution_count": null,
   "outputs": [],
   "source": [],
   "metadata": {
    "collapsed": false,
    "pycharm": {
     "name": "#%%\n"
    }
   }
  },
  {
   "cell_type": "code",
   "execution_count": null,
   "outputs": [],
   "source": [],
   "metadata": {
    "collapsed": false,
    "pycharm": {
     "name": "#%%\n"
    }
   }
  },
  {
   "cell_type": "code",
   "execution_count": null,
   "outputs": [],
   "source": [],
   "metadata": {
    "collapsed": false,
    "pycharm": {
     "name": "#%%\n"
    }
   }
  },
  {
   "cell_type": "code",
   "execution_count": null,
   "outputs": [],
   "source": [],
   "metadata": {
    "collapsed": false,
    "pycharm": {
     "name": "#%%\n"
    }
   }
  },
  {
   "cell_type": "code",
   "execution_count": null,
   "outputs": [],
   "source": [],
   "metadata": {
    "collapsed": false,
    "pycharm": {
     "name": "#%%\n"
    }
   }
  },
  {
   "cell_type": "code",
   "execution_count": null,
   "outputs": [],
   "source": [],
   "metadata": {
    "collapsed": false,
    "pycharm": {
     "name": "#%%\n"
    }
   }
  },
  {
   "cell_type": "code",
   "execution_count": null,
   "outputs": [],
   "source": [],
   "metadata": {
    "collapsed": false,
    "pycharm": {
     "name": "#%%\n"
    }
   }
  },
  {
   "cell_type": "code",
   "execution_count": null,
   "outputs": [],
   "source": [],
   "metadata": {
    "collapsed": false,
    "pycharm": {
     "name": "#%%\n"
    }
   }
  }
 ],
 "metadata": {
  "kernelspec": {
   "display_name": "Python 3",
   "language": "python",
   "name": "python3"
  },
  "language_info": {
   "codemirror_mode": {
    "name": "ipython",
    "version": 2
   },
   "file_extension": ".py",
   "mimetype": "text/x-python",
   "name": "python",
   "nbconvert_exporter": "python",
   "pygments_lexer": "ipython2",
   "version": "2.7.6"
  }
 },
 "nbformat": 4,
 "nbformat_minor": 0
}